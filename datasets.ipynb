{
 "cells": [
  {
   "cell_type": "code",
   "execution_count": 74,
   "metadata": {},
   "outputs": [],
   "source": [
    "# pip install Faker\n"
   ]
  },
  {
   "cell_type": "code",
   "execution_count": 75,
   "metadata": {},
   "outputs": [],
   "source": [
    "os.chdir('/Users/bsid24082/Documents/ROI/')"
   ]
  },
  {
   "cell_type": "code",
   "execution_count": 76,
   "metadata": {},
   "outputs": [],
   "source": [
    "# Importing all the libraries\n",
    "import numpy as np\n",
    "import pandas as pd\n",
    "from faker import Faker\n",
    "import random"
   ]
  },
  {
   "cell_type": "code",
   "execution_count": 77,
   "metadata": {},
   "outputs": [],
   "source": [
    "# Initialize Faker for realistic data\n",
    "fake = Faker()\n",
    "\n",
    "# --- 1. influencers dataset ---\n",
    "def generate_influencers(num_influencers=50):\n",
    "    influencers = []\n",
    "    categories = ['Fitness', 'Nutrition', 'Lifestyle', 'Beauty', 'Health']\n",
    "    platforms = ['Instagram', 'YouTube', 'X', 'Threads']\n",
    "    genders = ['Male', 'Female', 'Non-binary']\n",
    "\n",
    "    for i in range(1, num_influencers + 1):\n",
    "        influencers.append({\n",
    "            'ID': i,\n",
    "            'name': fake.name(),\n",
    "            'category': random.choice(categories),\n",
    "            'gender': random.choice(genders),\n",
    "            'follower_count': random.randint(10000, 5000000),\n",
    "            'platform': random.choice(platforms)\n",
    "        })\n",
    "    return pd.DataFrame(influencers)\n",
    "\n"
   ]
  },
  {
   "cell_type": "code",
   "execution_count": 83,
   "metadata": {},
   "outputs": [],
   "source": [
    "# --- 2. posts dataset ---\n",
    "def generate_posts(influencers_df, num_posts=200):\n",
    "    posts = []\n",
    "    influencer_ids = influencers_df['ID'].tolist()\n",
    "\n",
    "    for _ in range(num_posts):\n",
    "        influencer_id = random.choice(influencer_ids)\n",
    "        influencer = influencers_df[influencers_df['ID'] == influencer_id].iloc[0]\n",
    "        follower_count = influencer['follower_count']\n",
    "        platform = influencer['platform']\n",
    "        date = fake.date_between(start_date='-90d', end_date='today')\n",
    "\n",
    "        # Realistic engagement based on follower count\n",
    "        reach = int(follower_count * random.uniform(0.1, 0.3)) # Reach is 10-30% of followers\n",
    "        likes = int(reach * random.uniform(0.02, 0.1)) # Likes are 2-10% of reach\n",
    "        comments = int(likes * random.uniform(0.05, 0.2)) # Comments are 5-20% of likes\n",
    "\n",
    "        posts.append({\n",
    "            'influencer_id': influencer_id,\n",
    "            'platform': platform,\n",
    "            'date': date,\n",
    "            'URL': fake.url(),\n",
    "            'caption': fake.sentence(),\n",
    "            'reach': reach,\n",
    "            'likes': likes,\n",
    "            'comments': comments\n",
    "        })\n",
    "    return pd.DataFrame(posts)"
   ]
  },
  {
   "cell_type": "code",
   "execution_count": 84,
   "metadata": {},
   "outputs": [],
   "source": [
    "# --- 3. tracking_data dataset ---\n",
    "def generate_tracking_data(influencers_df, num_records=500):\n",
    "    tracking_data = []\n",
    "    influencer_ids = influencers_df['ID'].tolist()\n",
    "    products = ['MuscleBlaze_Whey_Protein', 'HKVitals_Multivitamin', 'Gritzo_Super_Milk', 'MuscleTech_Nitrotech_Whey_Protein', 'HKVitals_ACV', 'HKVitals_Omega3', 'MuscleBlaze_Creatine']\n",
    "    \n",
    "    # Simulate a baseline of organic sales\n",
    "    for _ in range(100):\n",
    "        tracking_data.append({\n",
    "            'source': 'organic',\n",
    "            'campaign': 'n/a',\n",
    "            'influencer_id': np.nan,\n",
    "            'user_id': fake.uuid4(),\n",
    "            'product': random.choice(products),\n",
    "            'date': fake.date_between(start_date='-60d', end_date='today'),\n",
    "            'orders': random.randint(1, 3),\n",
    "            'revenue': random.randint(400, 5000)\n",
    "        })\n",
    "\n",
    "    # Simulate influencer-driven sales, with revenue scaled by influencer size\n",
    "    for _ in range(num_records):\n",
    "        influencer_id = random.choice(influencer_ids)\n",
    "        influencer = influencers_df[influencers_df['ID'] == influencer_id].iloc[0]\n",
    "        \n",
    "        # Revenue is proportional to follower count\n",
    "        follower_factor = influencer['follower_count'] / 100000\n",
    "        revenue_per_order = random.randint(400, 5000) * follower_factor\n",
    "        \n",
    "        tracking_data.append({\n",
    "            'source': 'influencer',\n",
    "            'campaign': f'Campaign_{random.randint(1, 5)}',\n",
    "            'influencer_id': influencer_id,\n",
    "            'user_id': fake.uuid4(),\n",
    "            'product': random.choice(products),\n",
    "            'date': fake.date_between(start_date='-90d', end_date='today'),\n",
    "            'orders': random.randint(1, 5),\n",
    "            'revenue': max(random.randint(400, 15000), revenue_per_order) # Ensures a minimum and caps at a max\n",
    "        })\n",
    "    return pd.DataFrame(tracking_data)\n",
    "\n"
   ]
  },
  {
   "cell_type": "code",
   "execution_count": 85,
   "metadata": {},
   "outputs": [],
   "source": [
    "# --- 4. payouts dataset ---\n",
    "def generate_payouts(influencers_df, tracking_data_df):\n",
    "    payouts = []\n",
    "    influencer_orders = tracking_data_df.groupby('influencer_id')['orders'].sum().reset_index()\n",
    "    \n",
    "    for _, influencer in influencers_df.iterrows():\n",
    "        basis = random.choice(['post', 'order'])\n",
    "        rate = 0\n",
    "        total_payout = 0\n",
    "        orders = influencer_orders[influencer_orders['influencer_id'] == influencer['ID']]['orders'].iloc[0] if not influencer_orders[influencer_orders['influencer_id'] == influencer['ID']].empty else 0\n",
    "        \n",
    "        if basis == 'post':\n",
    "            # Payout rate is proportional to follower count\n",
    "            rate = int(influencer['follower_count'] / 500) # A larger influencer costs more per post\n",
    "            total_payout = rate * random.randint(2, 10)\n",
    "        elif basis == 'order':\n",
    "            rate = random.randint(10, 150)\n",
    "            total_payout = rate * orders\n",
    "\n",
    "        payouts.append({\n",
    "            'influencer_id': influencer['ID'],\n",
    "            'basis': basis,\n",
    "            'rate': rate,\n",
    "            'orders': orders,\n",
    "            'total_payout': total_payout\n",
    "        })\n",
    "    return pd.DataFrame(payouts)\n"
   ]
  },
  {
   "cell_type": "code",
   "execution_count": 86,
   "metadata": {},
   "outputs": [
    {
     "name": "stdout",
     "output_type": "stream",
     "text": [
      "Simulated data has been generated and saved to CSV files.\n"
     ]
    }
   ],
   "source": [
    "# --- Main execution ---\n",
    "if __name__ == \"__main__\":\n",
    "    # Generate dataframes\n",
    "    influencers_df = generate_influencers()\n",
    "    posts_df = generate_posts(influencers_df)\n",
    "    tracking_data_df = generate_tracking_data(influencers_df)\n",
    "    payouts_df = generate_payouts(influencers_df, tracking_data_df)\n",
    "\n",
    "    # Save to CSV files\n",
    "    influencers_df.to_csv('influencers.csv', index=False)\n",
    "    posts_df.to_csv('posts.csv', index=False)\n",
    "    tracking_data_df.to_csv('tracking_data.csv', index=False)\n",
    "    payouts_df.to_csv('payouts.csv', index=False)\n",
    "\n",
    "    print(\"Simulated data has been generated and saved to CSV files.\")\n"
   ]
  },
  {
   "cell_type": "code",
   "execution_count": 87,
   "metadata": {},
   "outputs": [
    {
     "name": "stdout",
     "output_type": "stream",
     "text": [
      "/Users/bsid24082/Documents/ROI\n"
     ]
    }
   ],
   "source": [
    "import os\n",
    "print(os.getcwd())"
   ]
  },
  {
   "cell_type": "code",
   "execution_count": null,
   "metadata": {},
   "outputs": [],
   "source": []
  }
 ],
 "metadata": {
  "kernelspec": {
   "display_name": "Python 3 (ipykernel)",
   "language": "python",
   "name": "python3"
  },
  "language_info": {
   "codemirror_mode": {
    "name": "ipython",
    "version": 3
   },
   "file_extension": ".py",
   "mimetype": "text/x-python",
   "name": "python",
   "nbconvert_exporter": "python",
   "pygments_lexer": "ipython3",
   "version": "3.12.4"
  }
 },
 "nbformat": 4,
 "nbformat_minor": 2
}
